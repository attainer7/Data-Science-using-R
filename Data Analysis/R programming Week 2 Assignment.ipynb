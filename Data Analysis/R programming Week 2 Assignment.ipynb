{
 "cells": [
  {
   "cell_type": "markdown",
   "metadata": {},
   "source": [
    "# Coursera: R Programming Week 2 Assignment"
   ]
  },
  {
   "cell_type": "markdown",
   "metadata": {},
   "source": [
    "The zip file contains 332 comma-separated-value (CSV) https://d396qusza40orc.cloudfront.net/rprog%2Fdata%2Fspecdata.zip files containing pollution monitoring data for fine particulate matter (PM) air pollution at 332 locations in the United States. Each file contains data from a single monitor and the ID number for each monitor is contained in the file name. For example, data for monitor 200 is contained in the file “200.csv”. Each file contains three variables:\n",
    "\n",
    "Date: the date of the observation in YYYY-MM-DD format (year-month-day) sulfate: the level of sulfate PM in the air on that date (measured in micrograms per cubic meter) nitrate: the level of nitrate PM in the air on that date (measured in micrograms per cubic meter) For this programming assignment you will need to unzip this file and create the directory ‘specdata’. Once you have unzipped the zip file, do not make any modifications to the files in the ‘specdata’ directory. In each file you’ll notice that there are many days where either sulfate or nitrate (or both) are missing (coded as NA). This is common with air pollution monitoring data in the United States."
   ]
  },
  {
   "cell_type": "markdown",
   "metadata": {},
   "source": [
    "# Part 1"
   ]
  },
  {
   "cell_type": "markdown",
   "metadata": {},
   "source": [
    "Write a function named 'pollutantmean' that calculates the mean of a pollutant (sulfate or nitrate) across a specified list of monitors. The function 'pollutantmean' takes three arguments: 'directory', 'pollutant', and 'id'. Given a vector monitor ID numbers, 'pollutantmean' reads that monitors' particulate matter data from the directory specified in the 'directory' argument and returns the mean of the pollutant across all of the monitors, ignoring any missing values coded as NA. A prototype of the function is as follows."
   ]
  },
  {
   "cell_type": "code",
   "execution_count": 1,
   "metadata": {},
   "outputs": [
    {
     "data": {
      "text/html": [
       "4.06412824256036"
      ],
      "text/latex": [
       "4.06412824256036"
      ],
      "text/markdown": [
       "4.06412824256036"
      ],
      "text/plain": [
       "[1] 4.064128"
      ]
     },
     "metadata": {},
     "output_type": "display_data"
    }
   ],
   "source": [
    "pollutantmean <- function(Directory, pollutant, id = 1:332) {\n",
    "  \n",
    "  setwd(\"D:/Project/R Programming\")\n",
    "  path <- paste(getwd(),\"/\", \"specdata\" , sep = \"\")\n",
    "\n",
    "  data <- data.frame()\n",
    "  for (i in id) {\n",
    "    if (i < 10) {\n",
    "      temp <- read.csv(paste(path,\"/00\", as.character(i),\".csv\", sep = \"\"), as.is = T, header = T)\n",
    "      data <- rbind(data,temp)\n",
    "    }\n",
    "    else if (i < 100) {\n",
    "      temp <- read.csv(paste(path,\"/0\", as.character(i),\".csv\", sep = \"\"), as.is = T, header = T)\n",
    "      data <- rbind(data,temp)\n",
    "    }\n",
    "    else {\n",
    "      temp <- read.csv(paste(path,\"/\", as.character(i),\".csv\", sep = \"\"), as.is = T, header = T)\n",
    "      data <- rbind(data,temp)\n",
    "    }\n",
    "  }\n",
    "  return(mean(data[,pollutant], na.rm = T))\n",
    "}\n",
    "\n",
    "pollutantmean(\"specdata\", \"sulfate\", 1:10)"
   ]
  },
  {
   "cell_type": "code",
   "execution_count": 2,
   "metadata": {},
   "outputs": [
    {
     "data": {
      "text/html": [
       "1.70604735169492"
      ],
      "text/latex": [
       "1.70604735169492"
      ],
      "text/markdown": [
       "1.70604735169492"
      ],
      "text/plain": [
       "[1] 1.706047"
      ]
     },
     "metadata": {},
     "output_type": "display_data"
    }
   ],
   "source": [
    "pollutantmean(\"specdata\", \"nitrate\", 70:72)"
   ]
  },
  {
   "cell_type": "code",
   "execution_count": 3,
   "metadata": {},
   "outputs": [
    {
     "data": {
      "text/html": [
       "1.47714303030303"
      ],
      "text/latex": [
       "1.47714303030303"
      ],
      "text/markdown": [
       "1.47714303030303"
      ],
      "text/plain": [
       "[1] 1.477143"
      ]
     },
     "metadata": {},
     "output_type": "display_data"
    }
   ],
   "source": [
    "pollutantmean(\"specdata\", \"sulfate\", 34)"
   ]
  },
  {
   "cell_type": "code",
   "execution_count": 4,
   "metadata": {},
   "outputs": [
    {
     "data": {
      "text/html": [
       "1.70293184286701"
      ],
      "text/latex": [
       "1.70293184286701"
      ],
      "text/markdown": [
       "1.70293184286701"
      ],
      "text/plain": [
       "[1] 1.702932"
      ]
     },
     "metadata": {},
     "output_type": "display_data"
    }
   ],
   "source": [
    "pollutantmean(\"specdata\", \"nitrate\")"
   ]
  },
  {
   "cell_type": "markdown",
   "metadata": {},
   "source": [
    "# Part 2"
   ]
  },
  {
   "cell_type": "markdown",
   "metadata": {},
   "source": [
    "Write a function that reads a directory full of files and reports the number of completely observed cases in each data file. The function should return a data frame where the first column is the name of the file and the second column is the number of complete cases. A prototype of this function follows"
   ]
  },
  {
   "cell_type": "code",
   "execution_count": 5,
   "metadata": {},
   "outputs": [],
   "source": [
    "complete <- function(directory, id = 1:332) {\n",
    "    \n",
    "  setwd(\"D:/Project/R Programming\")\n",
    "  path <- paste(getwd(),\"/\", \"specdata\" , sep = \"\")\n",
    "    \n",
    "  data <- data.frame()\n",
    "  for (i in id) {\n",
    "    if (i < 10) {\n",
    "      temp <- read.csv(paste(path,\"/00\", as.character(i),\".csv\", sep = \"\"), as.is = T, header = T)\n",
    "      \n",
    "    }\n",
    "    else if (i < 100) {\n",
    "      temp <- read.csv(paste(path,\"/0\", as.character(i),\".csv\", sep = \"\"), as.is = T, header = T)\n",
    "     \n",
    "    }\n",
    "    else {\n",
    "      temp <- read.csv(paste(path,\"/\", as.character(i),\".csv\", sep = \"\"), as.is = T, header = T)\n",
    "      \n",
    "    }\n",
    "      \n",
    "    nobs <- sum(complete.cases(temp))\n",
    "    temp_data <- data.frame(i, nobs)\n",
    "    data <- rbind(data,temp_data)\n",
    "    \n",
    "  }\n",
    "  return(data)\n",
    "}"
   ]
  },
  {
   "cell_type": "code",
   "execution_count": 6,
   "metadata": {},
   "outputs": [
    {
     "name": "stdout",
     "output_type": "stream",
     "text": [
      "[1] 228 148 124 165 104 460 232\n"
     ]
    }
   ],
   "source": [
    "cc <- complete(\"specdata\", c(6, 10, 20, 34, 100, 200, 310))\n",
    "print(cc$nobs)"
   ]
  },
  {
   "cell_type": "code",
   "execution_count": 7,
   "metadata": {},
   "outputs": [
    {
     "name": "stdout",
     "output_type": "stream",
     "text": [
      "[1] 219\n"
     ]
    }
   ],
   "source": [
    "cc <- complete(\"specdata\", 54)\n",
    "print(cc$nobs)"
   ]
  },
  {
   "cell_type": "code",
   "execution_count": 8,
   "metadata": {},
   "outputs": [
    {
     "name": "stdout",
     "output_type": "stream",
     "text": [
      " [1]  87  96 576  76 237   4 121 117 361 932\n"
     ]
    }
   ],
   "source": [
    "set.seed(42)\n",
    "cc <- complete(\"specdata\", 332:1)\n",
    "use <- sample(332, 10)\n",
    "print(cc[use, \"nobs\"])"
   ]
  },
  {
   "cell_type": "markdown",
   "metadata": {},
   "source": [
    "# Part 3"
   ]
  },
  {
   "cell_type": "markdown",
   "metadata": {},
   "source": [
    "Write a function that takes a directory of data files and a threshold for complete cases and calculates the correlation between sulfate and nitrate for monitor locations where the number of completely observed cases (on all variables) is greater than the threshold. The function should return a vector of correlations for the monitors that meet the threshold requirement. If no monitors meet the threshold requirement, then the function should return a numeric vector of length 0. A prototype of this function follows"
   ]
  },
  {
   "cell_type": "code",
   "execution_count": 9,
   "metadata": {},
   "outputs": [],
   "source": [
    "corr <- function(directory, threshold = 0) {\n",
    "    \n",
    "  setwd(\"D:/Project/R Programming\")\n",
    "  path <- paste(getwd(), \"/\", \"specdata\", sep = \"\")\n",
    "    \n",
    "  corr_vector <- NULL\n",
    "  for (i in 1:332) {\n",
    "    if (i < 10) {\n",
    "      temp <- read.csv(paste(path,\"/00\", as.character(i),\".csv\", sep = \"\"), as.is = T, header = T)\n",
    "    }\n",
    "    else if (i < 100) {\n",
    "      temp <- read.csv(paste(path,\"/0\", as.character(i),\".csv\", sep = \"\"), as.is = T, header = T)\n",
    "    }\n",
    "    else {\n",
    "      temp <- read.csv(paste(path,\"/\", as.character(i),\".csv\", sep = \"\"), as.is = T, header = T)\n",
    "    }\n",
    "    \n",
    "    data <- temp[complete.cases(temp),]\n",
    "    if (nrow(data) > threshold) {\n",
    "      corr_vector <- c(corr_vector, cor(data[,\"sulfate\"], data[, \"nitrate\"]))\n",
    "    }\n",
    "  }\n",
    "    \n",
    "    return(corr_vector)\n",
    "}"
   ]
  },
  {
   "cell_type": "code",
   "execution_count": 10,
   "metadata": {},
   "outputs": [
    {
     "name": "stdout",
     "output_type": "stream",
     "text": [
      "[1] -0.0331  0.5509  0.2621  0.1624  0.1433\n"
     ]
    }
   ],
   "source": [
    "cr <- corr(\"specdata\")                \n",
    "cr <- sort(cr)                \n",
    "set.seed(868)                \n",
    "out <- round(cr[sample(length(cr), 5)], 4)\n",
    "print(out)"
   ]
  },
  {
   "cell_type": "code",
   "execution_count": 11,
   "metadata": {},
   "outputs": [
    {
     "name": "stdout",
     "output_type": "stream",
     "text": [
      "[1] 243.0000   0.1384   0.2996  -0.0648  -0.1063  -0.1405\n"
     ]
    }
   ],
   "source": [
    "cr <- corr(\"specdata\", 129)                \n",
    "cr <- sort(cr)                \n",
    "n <- length(cr)                \n",
    "set.seed(197)                \n",
    "out <- c(n, round(cr[sample(n, 5)], 4))\n",
    "print(out)"
   ]
  },
  {
   "cell_type": "code",
   "execution_count": 12,
   "metadata": {},
   "outputs": [
    {
     "name": "stdout",
     "output_type": "stream",
     "text": [
      "[1]  0.0000 -0.0190  0.0419  0.1901\n"
     ]
    }
   ],
   "source": [
    "cr <- corr(\"specdata\", 2000)                \n",
    "n <- length(cr)                \n",
    "cr <- corr(\"specdata\", 1000)                \n",
    "cr <- sort(cr)\n",
    "print(c(n, round(cr, 4)))"
   ]
  }
 ],
 "metadata": {
  "kernelspec": {
   "display_name": "R",
   "language": "R",
   "name": "ir"
  },
  "language_info": {
   "codemirror_mode": "r",
   "file_extension": ".r",
   "mimetype": "text/x-r-source",
   "name": "R",
   "pygments_lexer": "r",
   "version": "3.6.1"
  }
 },
 "nbformat": 4,
 "nbformat_minor": 2
}
